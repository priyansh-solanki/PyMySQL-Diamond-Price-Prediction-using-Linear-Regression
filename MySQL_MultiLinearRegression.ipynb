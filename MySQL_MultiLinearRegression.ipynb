{
 "cells": [
  {
   "cell_type": "markdown",
   "id": "9b92c1b3",
   "metadata": {},
   "source": [
    "### Importing Libraries"
   ]
  },
  {
   "cell_type": "code",
   "execution_count": 39,
   "id": "123b9404",
   "metadata": {},
   "outputs": [],
   "source": [
    "import mysql.connector\n",
    "import pandas as pd\n",
    "import numpy as np\n",
    "from sklearn.preprocessing import LabelEncoder\n",
    "from sklearn.model_selection import train_test_split\n",
    "from sklearn.metrics import r2_score\n",
    "from sklearn.metrics import mean_squared_error\n",
    "import warnings\n",
    "warnings.filterwarnings('ignore')"
   ]
  },
  {
   "cell_type": "markdown",
   "id": "2f8529f1",
   "metadata": {},
   "source": [
    "### Connecting Python with MySQL server"
   ]
  },
  {
   "cell_type": "code",
   "execution_count": 4,
   "id": "5ef797dd",
   "metadata": {},
   "outputs": [],
   "source": [
    "conn = mysql.connector.connect(\n",
    "    host='localhost',\n",
    "    user='root',\n",
    "    password='',\n",
    ")"
   ]
  },
  {
   "cell_type": "code",
   "execution_count": 5,
   "id": "46568438",
   "metadata": {},
   "outputs": [],
   "source": [
    "cursor = conn.cursor()"
   ]
  },
  {
   "cell_type": "code",
   "execution_count": 6,
   "id": "2f8be9b2",
   "metadata": {},
   "outputs": [],
   "source": [
    "cursor.execute(\"CREATE DATABASE my_db\")"
   ]
  },
  {
   "cell_type": "code",
   "execution_count": 7,
   "id": "0bb81cc2",
   "metadata": {},
   "outputs": [],
   "source": [
    "cursor.execute(\"USE my_db\")"
   ]
  },
  {
   "cell_type": "code",
   "execution_count": 8,
   "id": "6bcd1b6c",
   "metadata": {},
   "outputs": [
    {
     "data": {
      "text/plain": [
       "'my_db'"
      ]
     },
     "execution_count": 8,
     "metadata": {},
     "output_type": "execute_result"
    }
   ],
   "source": [
    "conn.database"
   ]
  },
  {
   "cell_type": "markdown",
   "id": "54e3dba4",
   "metadata": {},
   "source": [
    "### Inserting a pandas dataframe into MySQL table"
   ]
  },
  {
   "cell_type": "code",
   "execution_count": 9,
   "id": "d2661601",
   "metadata": {},
   "outputs": [],
   "source": [
    "diamond_data = pd.read_csv('diamonds.csv')"
   ]
  },
  {
   "cell_type": "code",
   "execution_count": 11,
   "id": "bf177a73",
   "metadata": {},
   "outputs": [],
   "source": [
    "create_table_query = \"CREATE TABLE diamond (\"\n",
    "create_table_query += \", \" .join([f\"`{col}` VARCHAR(255)\" for col in diamond_data.columns])\n",
    "create_table_query += \")\"\n",
    "\n",
    "cursor.execute(create_table_query)"
   ]
  },
  {
   "cell_type": "code",
   "execution_count": 12,
   "id": "9aeb798d",
   "metadata": {},
   "outputs": [],
   "source": [
    "for i,row in diamond_data.iterrows():\n",
    "    insert_query = \"INSERT INTO diamond VALUES (\" + \", \".join(['%s'] * len(diamond_data.columns)) + \")\"\n",
    "    cursor.execute(insert_query, tuple(row))"
   ]
  },
  {
   "cell_type": "code",
   "execution_count": 13,
   "id": "796f2979",
   "metadata": {},
   "outputs": [],
   "source": [
    "conn.commit()"
   ]
  },
  {
   "cell_type": "markdown",
   "id": "6ed2c944",
   "metadata": {},
   "source": [
    "### Extracting data from MySQL database into a pandas dataframe for data preprocessing & ML"
   ]
  },
  {
   "cell_type": "code",
   "execution_count": 15,
   "id": "71096117",
   "metadata": {},
   "outputs": [],
   "source": [
    "query = \"SELECT * FROM diamond\"\n",
    "result_data = pd.read_sql(query, conn)"
   ]
  },
  {
   "cell_type": "code",
   "execution_count": 16,
   "id": "9d5bdf42",
   "metadata": {},
   "outputs": [
    {
     "data": {
      "text/html": [
       "<div>\n",
       "<style scoped>\n",
       "    .dataframe tbody tr th:only-of-type {\n",
       "        vertical-align: middle;\n",
       "    }\n",
       "\n",
       "    .dataframe tbody tr th {\n",
       "        vertical-align: top;\n",
       "    }\n",
       "\n",
       "    .dataframe thead th {\n",
       "        text-align: right;\n",
       "    }\n",
       "</style>\n",
       "<table border=\"1\" class=\"dataframe\">\n",
       "  <thead>\n",
       "    <tr style=\"text-align: right;\">\n",
       "      <th></th>\n",
       "      <th>carat</th>\n",
       "      <th>cut</th>\n",
       "      <th>color</th>\n",
       "      <th>clarity</th>\n",
       "      <th>depth</th>\n",
       "      <th>table</th>\n",
       "      <th>price</th>\n",
       "      <th>x</th>\n",
       "      <th>y</th>\n",
       "      <th>z</th>\n",
       "    </tr>\n",
       "  </thead>\n",
       "  <tbody>\n",
       "    <tr>\n",
       "      <th>0</th>\n",
       "      <td>0.23</td>\n",
       "      <td>Ideal</td>\n",
       "      <td>E</td>\n",
       "      <td>SI2</td>\n",
       "      <td>61.5</td>\n",
       "      <td>55.0</td>\n",
       "      <td>326</td>\n",
       "      <td>3.95</td>\n",
       "      <td>3.98</td>\n",
       "      <td>2.43</td>\n",
       "    </tr>\n",
       "    <tr>\n",
       "      <th>1</th>\n",
       "      <td>0.21</td>\n",
       "      <td>Premium</td>\n",
       "      <td>E</td>\n",
       "      <td>SI1</td>\n",
       "      <td>59.8</td>\n",
       "      <td>61.0</td>\n",
       "      <td>326</td>\n",
       "      <td>3.89</td>\n",
       "      <td>3.84</td>\n",
       "      <td>2.31</td>\n",
       "    </tr>\n",
       "    <tr>\n",
       "      <th>2</th>\n",
       "      <td>0.23</td>\n",
       "      <td>Good</td>\n",
       "      <td>E</td>\n",
       "      <td>VS1</td>\n",
       "      <td>56.9</td>\n",
       "      <td>65.0</td>\n",
       "      <td>327</td>\n",
       "      <td>4.05</td>\n",
       "      <td>4.07</td>\n",
       "      <td>2.31</td>\n",
       "    </tr>\n",
       "    <tr>\n",
       "      <th>3</th>\n",
       "      <td>0.29</td>\n",
       "      <td>Premium</td>\n",
       "      <td>I</td>\n",
       "      <td>VS2</td>\n",
       "      <td>62.4</td>\n",
       "      <td>58.0</td>\n",
       "      <td>334</td>\n",
       "      <td>4.2</td>\n",
       "      <td>4.23</td>\n",
       "      <td>2.63</td>\n",
       "    </tr>\n",
       "    <tr>\n",
       "      <th>4</th>\n",
       "      <td>0.31</td>\n",
       "      <td>Good</td>\n",
       "      <td>J</td>\n",
       "      <td>SI2</td>\n",
       "      <td>63.3</td>\n",
       "      <td>58.0</td>\n",
       "      <td>335</td>\n",
       "      <td>4.34</td>\n",
       "      <td>4.35</td>\n",
       "      <td>2.75</td>\n",
       "    </tr>\n",
       "  </tbody>\n",
       "</table>\n",
       "</div>"
      ],
      "text/plain": [
       "  carat      cut color clarity depth table price     x     y     z\n",
       "0  0.23    Ideal     E     SI2  61.5  55.0   326  3.95  3.98  2.43\n",
       "1  0.21  Premium     E     SI1  59.8  61.0   326  3.89  3.84  2.31\n",
       "2  0.23     Good     E     VS1  56.9  65.0   327  4.05  4.07  2.31\n",
       "3  0.29  Premium     I     VS2  62.4  58.0   334   4.2  4.23  2.63\n",
       "4  0.31     Good     J     SI2  63.3  58.0   335  4.34  4.35  2.75"
      ]
     },
     "execution_count": 16,
     "metadata": {},
     "output_type": "execute_result"
    }
   ],
   "source": [
    "result_data.head()"
   ]
  },
  {
   "cell_type": "markdown",
   "id": "275fb988",
   "metadata": {},
   "source": [
    "### Data Preprocessing"
   ]
  },
  {
   "cell_type": "code",
   "execution_count": 17,
   "id": "a71071d4",
   "metadata": {},
   "outputs": [
    {
     "data": {
      "text/plain": [
       "carat      object\n",
       "cut        object\n",
       "color      object\n",
       "clarity    object\n",
       "depth      object\n",
       "table      object\n",
       "price      object\n",
       "x          object\n",
       "y          object\n",
       "z          object\n",
       "dtype: object"
      ]
     },
     "execution_count": 17,
     "metadata": {},
     "output_type": "execute_result"
    }
   ],
   "source": [
    "result_data.dtypes"
   ]
  },
  {
   "cell_type": "code",
   "execution_count": 23,
   "id": "a5467e49",
   "metadata": {},
   "outputs": [],
   "source": [
    "columns = ['carat', 'depth', 'table', 'price', 'x', 'y', 'z']\n",
    "\n",
    "for column in columns:\n",
    "    result_data[column] = result_data[column].astype(float)"
   ]
  },
  {
   "cell_type": "code",
   "execution_count": 24,
   "id": "23971da0",
   "metadata": {},
   "outputs": [
    {
     "data": {
      "text/plain": [
       "carat      float64\n",
       "cut         object\n",
       "color       object\n",
       "clarity     object\n",
       "depth      float64\n",
       "table      float64\n",
       "price      float64\n",
       "x          float64\n",
       "y          float64\n",
       "z          float64\n",
       "dtype: object"
      ]
     },
     "execution_count": 24,
     "metadata": {},
     "output_type": "execute_result"
    }
   ],
   "source": [
    "result_data.dtypes"
   ]
  },
  {
   "cell_type": "code",
   "execution_count": 26,
   "id": "6e173439",
   "metadata": {},
   "outputs": [],
   "source": [
    "label_encoder = LabelEncoder()\n",
    "cols = ['cut', 'color', 'clarity']\n",
    "\n",
    "for col in cols:\n",
    "    result_data[col] = label_encoder.fit_transform(result_data[col])"
   ]
  },
  {
   "cell_type": "code",
   "execution_count": 27,
   "id": "6fab0bd2",
   "metadata": {},
   "outputs": [
    {
     "data": {
      "text/html": [
       "<div>\n",
       "<style scoped>\n",
       "    .dataframe tbody tr th:only-of-type {\n",
       "        vertical-align: middle;\n",
       "    }\n",
       "\n",
       "    .dataframe tbody tr th {\n",
       "        vertical-align: top;\n",
       "    }\n",
       "\n",
       "    .dataframe thead th {\n",
       "        text-align: right;\n",
       "    }\n",
       "</style>\n",
       "<table border=\"1\" class=\"dataframe\">\n",
       "  <thead>\n",
       "    <tr style=\"text-align: right;\">\n",
       "      <th></th>\n",
       "      <th>carat</th>\n",
       "      <th>cut</th>\n",
       "      <th>color</th>\n",
       "      <th>clarity</th>\n",
       "      <th>depth</th>\n",
       "      <th>table</th>\n",
       "      <th>price</th>\n",
       "      <th>x</th>\n",
       "      <th>y</th>\n",
       "      <th>z</th>\n",
       "    </tr>\n",
       "  </thead>\n",
       "  <tbody>\n",
       "    <tr>\n",
       "      <th>0</th>\n",
       "      <td>0.23</td>\n",
       "      <td>2</td>\n",
       "      <td>1</td>\n",
       "      <td>3</td>\n",
       "      <td>61.5</td>\n",
       "      <td>55.0</td>\n",
       "      <td>326.0</td>\n",
       "      <td>3.95</td>\n",
       "      <td>3.98</td>\n",
       "      <td>2.43</td>\n",
       "    </tr>\n",
       "    <tr>\n",
       "      <th>1</th>\n",
       "      <td>0.21</td>\n",
       "      <td>3</td>\n",
       "      <td>1</td>\n",
       "      <td>2</td>\n",
       "      <td>59.8</td>\n",
       "      <td>61.0</td>\n",
       "      <td>326.0</td>\n",
       "      <td>3.89</td>\n",
       "      <td>3.84</td>\n",
       "      <td>2.31</td>\n",
       "    </tr>\n",
       "    <tr>\n",
       "      <th>2</th>\n",
       "      <td>0.23</td>\n",
       "      <td>1</td>\n",
       "      <td>1</td>\n",
       "      <td>4</td>\n",
       "      <td>56.9</td>\n",
       "      <td>65.0</td>\n",
       "      <td>327.0</td>\n",
       "      <td>4.05</td>\n",
       "      <td>4.07</td>\n",
       "      <td>2.31</td>\n",
       "    </tr>\n",
       "    <tr>\n",
       "      <th>3</th>\n",
       "      <td>0.29</td>\n",
       "      <td>3</td>\n",
       "      <td>5</td>\n",
       "      <td>5</td>\n",
       "      <td>62.4</td>\n",
       "      <td>58.0</td>\n",
       "      <td>334.0</td>\n",
       "      <td>4.20</td>\n",
       "      <td>4.23</td>\n",
       "      <td>2.63</td>\n",
       "    </tr>\n",
       "    <tr>\n",
       "      <th>4</th>\n",
       "      <td>0.31</td>\n",
       "      <td>1</td>\n",
       "      <td>6</td>\n",
       "      <td>3</td>\n",
       "      <td>63.3</td>\n",
       "      <td>58.0</td>\n",
       "      <td>335.0</td>\n",
       "      <td>4.34</td>\n",
       "      <td>4.35</td>\n",
       "      <td>2.75</td>\n",
       "    </tr>\n",
       "  </tbody>\n",
       "</table>\n",
       "</div>"
      ],
      "text/plain": [
       "   carat  cut  color  clarity  depth  table  price     x     y     z\n",
       "0   0.23    2      1        3   61.5   55.0  326.0  3.95  3.98  2.43\n",
       "1   0.21    3      1        2   59.8   61.0  326.0  3.89  3.84  2.31\n",
       "2   0.23    1      1        4   56.9   65.0  327.0  4.05  4.07  2.31\n",
       "3   0.29    3      5        5   62.4   58.0  334.0  4.20  4.23  2.63\n",
       "4   0.31    1      6        3   63.3   58.0  335.0  4.34  4.35  2.75"
      ]
     },
     "execution_count": 27,
     "metadata": {},
     "output_type": "execute_result"
    }
   ],
   "source": [
    "result_data.head()"
   ]
  },
  {
   "cell_type": "code",
   "execution_count": 28,
   "id": "4716e94d",
   "metadata": {},
   "outputs": [
    {
     "data": {
      "text/html": [
       "<div>\n",
       "<style scoped>\n",
       "    .dataframe tbody tr th:only-of-type {\n",
       "        vertical-align: middle;\n",
       "    }\n",
       "\n",
       "    .dataframe tbody tr th {\n",
       "        vertical-align: top;\n",
       "    }\n",
       "\n",
       "    .dataframe thead th {\n",
       "        text-align: right;\n",
       "    }\n",
       "</style>\n",
       "<table border=\"1\" class=\"dataframe\">\n",
       "  <thead>\n",
       "    <tr style=\"text-align: right;\">\n",
       "      <th></th>\n",
       "      <th>carat</th>\n",
       "      <th>cut</th>\n",
       "      <th>color</th>\n",
       "      <th>clarity</th>\n",
       "      <th>depth</th>\n",
       "      <th>table</th>\n",
       "      <th>price</th>\n",
       "      <th>x</th>\n",
       "      <th>y</th>\n",
       "      <th>z</th>\n",
       "    </tr>\n",
       "  </thead>\n",
       "  <tbody>\n",
       "    <tr>\n",
       "      <th>carat</th>\n",
       "      <td>1.000000</td>\n",
       "      <td>0.017124</td>\n",
       "      <td>0.291437</td>\n",
       "      <td>-0.214290</td>\n",
       "      <td>0.028224</td>\n",
       "      <td>0.181618</td>\n",
       "      <td>0.921591</td>\n",
       "      <td>0.975094</td>\n",
       "      <td>0.951722</td>\n",
       "      <td>0.953387</td>\n",
       "    </tr>\n",
       "    <tr>\n",
       "      <th>cut</th>\n",
       "      <td>0.017124</td>\n",
       "      <td>1.000000</td>\n",
       "      <td>0.000304</td>\n",
       "      <td>0.028235</td>\n",
       "      <td>-0.194249</td>\n",
       "      <td>0.150327</td>\n",
       "      <td>0.039860</td>\n",
       "      <td>0.022342</td>\n",
       "      <td>0.027572</td>\n",
       "      <td>0.002037</td>\n",
       "    </tr>\n",
       "    <tr>\n",
       "      <th>color</th>\n",
       "      <td>0.291437</td>\n",
       "      <td>0.000304</td>\n",
       "      <td>1.000000</td>\n",
       "      <td>-0.027795</td>\n",
       "      <td>0.047279</td>\n",
       "      <td>0.026465</td>\n",
       "      <td>0.172511</td>\n",
       "      <td>0.270287</td>\n",
       "      <td>0.263584</td>\n",
       "      <td>0.268227</td>\n",
       "    </tr>\n",
       "    <tr>\n",
       "      <th>clarity</th>\n",
       "      <td>-0.214290</td>\n",
       "      <td>0.028235</td>\n",
       "      <td>-0.027795</td>\n",
       "      <td>1.000000</td>\n",
       "      <td>-0.053080</td>\n",
       "      <td>-0.088223</td>\n",
       "      <td>-0.071535</td>\n",
       "      <td>-0.225721</td>\n",
       "      <td>-0.217616</td>\n",
       "      <td>-0.224263</td>\n",
       "    </tr>\n",
       "    <tr>\n",
       "      <th>depth</th>\n",
       "      <td>0.028224</td>\n",
       "      <td>-0.194249</td>\n",
       "      <td>0.047279</td>\n",
       "      <td>-0.053080</td>\n",
       "      <td>1.000000</td>\n",
       "      <td>-0.295779</td>\n",
       "      <td>-0.010647</td>\n",
       "      <td>-0.025289</td>\n",
       "      <td>-0.029341</td>\n",
       "      <td>0.094924</td>\n",
       "    </tr>\n",
       "    <tr>\n",
       "      <th>table</th>\n",
       "      <td>0.181618</td>\n",
       "      <td>0.150327</td>\n",
       "      <td>0.026465</td>\n",
       "      <td>-0.088223</td>\n",
       "      <td>-0.295779</td>\n",
       "      <td>1.000000</td>\n",
       "      <td>0.127134</td>\n",
       "      <td>0.195344</td>\n",
       "      <td>0.183760</td>\n",
       "      <td>0.150929</td>\n",
       "    </tr>\n",
       "    <tr>\n",
       "      <th>price</th>\n",
       "      <td>0.921591</td>\n",
       "      <td>0.039860</td>\n",
       "      <td>0.172511</td>\n",
       "      <td>-0.071535</td>\n",
       "      <td>-0.010647</td>\n",
       "      <td>0.127134</td>\n",
       "      <td>1.000000</td>\n",
       "      <td>0.884435</td>\n",
       "      <td>0.865421</td>\n",
       "      <td>0.861249</td>\n",
       "    </tr>\n",
       "    <tr>\n",
       "      <th>x</th>\n",
       "      <td>0.975094</td>\n",
       "      <td>0.022342</td>\n",
       "      <td>0.270287</td>\n",
       "      <td>-0.225721</td>\n",
       "      <td>-0.025289</td>\n",
       "      <td>0.195344</td>\n",
       "      <td>0.884435</td>\n",
       "      <td>1.000000</td>\n",
       "      <td>0.974701</td>\n",
       "      <td>0.970772</td>\n",
       "    </tr>\n",
       "    <tr>\n",
       "      <th>y</th>\n",
       "      <td>0.951722</td>\n",
       "      <td>0.027572</td>\n",
       "      <td>0.263584</td>\n",
       "      <td>-0.217616</td>\n",
       "      <td>-0.029341</td>\n",
       "      <td>0.183760</td>\n",
       "      <td>0.865421</td>\n",
       "      <td>0.974701</td>\n",
       "      <td>1.000000</td>\n",
       "      <td>0.952006</td>\n",
       "    </tr>\n",
       "    <tr>\n",
       "      <th>z</th>\n",
       "      <td>0.953387</td>\n",
       "      <td>0.002037</td>\n",
       "      <td>0.268227</td>\n",
       "      <td>-0.224263</td>\n",
       "      <td>0.094924</td>\n",
       "      <td>0.150929</td>\n",
       "      <td>0.861249</td>\n",
       "      <td>0.970772</td>\n",
       "      <td>0.952006</td>\n",
       "      <td>1.000000</td>\n",
       "    </tr>\n",
       "  </tbody>\n",
       "</table>\n",
       "</div>"
      ],
      "text/plain": [
       "            carat       cut     color   clarity     depth     table     price  \\\n",
       "carat    1.000000  0.017124  0.291437 -0.214290  0.028224  0.181618  0.921591   \n",
       "cut      0.017124  1.000000  0.000304  0.028235 -0.194249  0.150327  0.039860   \n",
       "color    0.291437  0.000304  1.000000 -0.027795  0.047279  0.026465  0.172511   \n",
       "clarity -0.214290  0.028235 -0.027795  1.000000 -0.053080 -0.088223 -0.071535   \n",
       "depth    0.028224 -0.194249  0.047279 -0.053080  1.000000 -0.295779 -0.010647   \n",
       "table    0.181618  0.150327  0.026465 -0.088223 -0.295779  1.000000  0.127134   \n",
       "price    0.921591  0.039860  0.172511 -0.071535 -0.010647  0.127134  1.000000   \n",
       "x        0.975094  0.022342  0.270287 -0.225721 -0.025289  0.195344  0.884435   \n",
       "y        0.951722  0.027572  0.263584 -0.217616 -0.029341  0.183760  0.865421   \n",
       "z        0.953387  0.002037  0.268227 -0.224263  0.094924  0.150929  0.861249   \n",
       "\n",
       "                x         y         z  \n",
       "carat    0.975094  0.951722  0.953387  \n",
       "cut      0.022342  0.027572  0.002037  \n",
       "color    0.270287  0.263584  0.268227  \n",
       "clarity -0.225721 -0.217616 -0.224263  \n",
       "depth   -0.025289 -0.029341  0.094924  \n",
       "table    0.195344  0.183760  0.150929  \n",
       "price    0.884435  0.865421  0.861249  \n",
       "x        1.000000  0.974701  0.970772  \n",
       "y        0.974701  1.000000  0.952006  \n",
       "z        0.970772  0.952006  1.000000  "
      ]
     },
     "execution_count": 28,
     "metadata": {},
     "output_type": "execute_result"
    }
   ],
   "source": [
    "result_data.corr()"
   ]
  },
  {
   "cell_type": "code",
   "execution_count": 31,
   "id": "a564efd5",
   "metadata": {},
   "outputs": [
    {
     "data": {
      "text/plain": [
       "(53940, 10)"
      ]
     },
     "execution_count": 31,
     "metadata": {},
     "output_type": "execute_result"
    }
   ],
   "source": [
    "result_data.shape"
   ]
  },
  {
   "cell_type": "markdown",
   "id": "a0f005b6",
   "metadata": {},
   "source": [
    "### Applying Multivariate Linear Regression on the extracted data"
   ]
  },
  {
   "cell_type": "code",
   "execution_count": 30,
   "id": "7eebe4a2",
   "metadata": {},
   "outputs": [],
   "source": [
    "independent_variables = ['carat', 'x', 'y', 'z'] # highly correlated variables\n",
    "X = result_data[independent_variables]\n",
    "y = result_data['price']"
   ]
  },
  {
   "cell_type": "code",
   "execution_count": 32,
   "id": "e5a4b7a4",
   "metadata": {},
   "outputs": [],
   "source": [
    "X_train, X_test, y_train, y_test = train_test_split(X, y, test_size=0.2, random_state=42)"
   ]
  },
  {
   "cell_type": "code",
   "execution_count": 33,
   "id": "e65ae1fc",
   "metadata": {},
   "outputs": [],
   "source": [
    "# building the model class \n",
    "\n",
    "class MultiLinearRegression:\n",
    "    def __init__(self, n_iters, learning_rate):\n",
    "        self.learning_rate = learning_rate # controls step size during gradient descent\n",
    "        self.n_iters = n_iters # no. of iterations/steps for gradient descent\n",
    "        self.coeff = None # coefficient\n",
    "        self.inter = None # intercept\n",
    "\n",
    "    # training the model\n",
    "    def fit(self, X, y):\n",
    "        n_samples, n_features = X.shape \n",
    "\n",
    "        self.coeff = np.zeros(n_features) # initializing coefficients to 0\n",
    "        self.inter = 0 # initializing intercept to 0\n",
    "\n",
    "        for _ in range(self.n_iters):\n",
    "\n",
    "            y_pred = np.dot(X, self.coeff) + self.inter # calculates the predicted values using current m and c\n",
    "\n",
    "            # calculate gradient/derivatives for coefficient\n",
    "            dm = (1 / n_samples) * np.dot(X.T, (y_pred - y)) \n",
    "            # calculate gradient/derivative for intercept\n",
    "            dc = (1 / n_samples) * np.sum(y_pred - y) \n",
    "            \n",
    "            # update coefficient using gradient descent by subtracting product of gradients and learning rate\n",
    "            self.coeff = self.coeff - self.learning_rate * dm \n",
    "            # update intercept using gradient descent by subtracting product of gradients and learning rate\n",
    "            self.inter = self.inter - self.learning_rate * dc \n",
    "    \n",
    "    # model prediction\n",
    "    def predict(self, X):\n",
    "        # dot product between input X and learned coefficient and then adding by learned intercept\n",
    "        return np.dot(X, self.coeff) + self.inter"
   ]
  },
  {
   "cell_type": "code",
   "execution_count": 58,
   "id": "104b54c0",
   "metadata": {},
   "outputs": [],
   "source": [
    "regressor = MultiLinearRegression(n_iters=30000, learning_rate=0.01)"
   ]
  },
  {
   "cell_type": "code",
   "execution_count": 59,
   "id": "68b4ac69",
   "metadata": {},
   "outputs": [],
   "source": [
    "regressor.fit(X_train, y_train)"
   ]
  },
  {
   "cell_type": "code",
   "execution_count": 60,
   "id": "51fb9076",
   "metadata": {},
   "outputs": [],
   "source": [
    "y_pred_train = regressor.predict(X_train)"
   ]
  },
  {
   "cell_type": "code",
   "execution_count": 61,
   "id": "0479b184",
   "metadata": {},
   "outputs": [
    {
     "data": {
      "text/plain": [
       "0.8491278033356742"
      ]
     },
     "execution_count": 61,
     "metadata": {},
     "output_type": "execute_result"
    }
   ],
   "source": [
    "# training accuracy\n",
    "\n",
    "R2_train = r2_score(y_train, y_pred_train)\n",
    "R2"
   ]
  },
  {
   "cell_type": "code",
   "execution_count": 62,
   "id": "d062de30",
   "metadata": {},
   "outputs": [],
   "source": [
    "y_pred_test = regressor.predict(X_test)"
   ]
  },
  {
   "cell_type": "code",
   "execution_count": 63,
   "id": "7672c218",
   "metadata": {},
   "outputs": [
    {
     "data": {
      "text/plain": [
       "0.8525282940378436"
      ]
     },
     "execution_count": 63,
     "metadata": {},
     "output_type": "execute_result"
    }
   ],
   "source": [
    "# testing accuracy\n",
    "\n",
    "R2_test = r2_score(y_test, y_pred_test)\n",
    "R2_test"
   ]
  },
  {
   "cell_type": "code",
   "execution_count": null,
   "id": "c82f72e7",
   "metadata": {},
   "outputs": [],
   "source": []
  }
 ],
 "metadata": {
  "kernelspec": {
   "display_name": "Python 3 (ipykernel)",
   "language": "python",
   "name": "python3"
  },
  "language_info": {
   "codemirror_mode": {
    "name": "ipython",
    "version": 3
   },
   "file_extension": ".py",
   "mimetype": "text/x-python",
   "name": "python",
   "nbconvert_exporter": "python",
   "pygments_lexer": "ipython3",
   "version": "3.9.12"
  }
 },
 "nbformat": 4,
 "nbformat_minor": 5
}
